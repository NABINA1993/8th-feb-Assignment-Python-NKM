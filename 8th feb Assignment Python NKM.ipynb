{
 "cells": [
  {
   "cell_type": "code",
   "execution_count": 1,
   "id": "6c976371",
   "metadata": {},
   "outputs": [
    {
     "name": "stdout",
     "output_type": "stream",
     "text": [
      "Starting the car\n",
      "Accelerating... Speed: 10\n",
      "Accelerating... Speed: 20\n",
      "Braking... Speed: 10\n",
      "Stopping the car\n"
     ]
    }
   ],
   "source": [
    "#Q1. What is Abstraction in OOps? Explain with an example.\n",
    "ans1=\"\"\"\"Abstraction in python is defined as a process of handling complexity by hiding unnecessary information from the user. \n",
    "This is one of the core concepts of object-oriented programming (OOP) languages.\"\"\"\n",
    "\n",
    "class Car:\n",
    "    def __init__(self, make, model, year):\n",
    "        self.__make = make\n",
    "        self.__model = model\n",
    "        self.__year = year\n",
    "        self.__speed = 0\n",
    "\n",
    "    def start(self):\n",
    "        print(\"Starting the car\")\n",
    "\n",
    "    def stop(self):\n",
    "        print(\"Stopping the car\")\n",
    "\n",
    "    def accelerate(self):\n",
    "        self.__speed += 10\n",
    "        print(\"Accelerating... Speed:\", self.__speed)\n",
    "\n",
    "    def brake(self):\n",
    "        self.__speed -= 10\n",
    "        print(\"Braking... Speed:\", self.__speed)\n",
    "\n",
    "# create an object of the Car class\n",
    "my_car = Car(\"Toyota\", \"Camry\", 2022)\n",
    "\n",
    "# use the object's methods\n",
    "my_car.start()\n",
    "my_car.accelerate()\n",
    "my_car.accelerate()\n",
    "my_car.brake()\n",
    "my_car.stop()"
   ]
  },
  {
   "cell_type": "code",
   "execution_count": 2,
   "id": "c769ede1",
   "metadata": {},
   "outputs": [],
   "source": [
    "#Q2. Differentiate between Abstraction and Encapsulation. Explain with an example."
   ]
  },
  {
   "cell_type": "markdown",
   "id": "fa224a4e",
   "metadata": {},
   "source": [
    "Abstraction and encapsulation are two fundamental concepts in object-oriented programming (OOP) that are often used together. However, they are distinct concepts that serve different purposes.\n",
    "\n",
    "Abstraction is the process of hiding the complexity of an object and exposing only the essential features. The essential features of an object represent what the object does, while the implementation details represent how the object does it. Abstraction helps to reduce complexity by hiding the implementation details from the user.\n",
    "\n",
    "Encapsulation, on the other hand, is the process of wrapping up data and behavior into a single unit (object) and hiding the internal details from the outside world. Encapsulation provides a way to protect the data and behavior of an object from accidental or intentional modification by outside code. This makes the code more maintainable and scalable."
   ]
  },
  {
   "cell_type": "code",
   "execution_count": null,
   "id": "0382b1e2",
   "metadata": {},
   "outputs": [],
   "source": [
    "class Car:\n",
    "    def __init__(self, make, model, year):\n",
    "        self.__make = make\n",
    "        self.__model = model\n",
    "        self.__year = year\n",
    "        self.__speed = 0\n",
    "\n",
    "    def start(self):\n",
    "        print(\"Starting the car\")\n",
    "\n",
    "    def stop(self):\n",
    "        print(\"Stopping the car\")\n",
    "\n",
    "    def accelerate(self):\n",
    "        self.__speed += 10\n",
    "        print(\"Accelerating... Speed:\", self.__speed)\n",
    "\n",
    "    def brake(self):\n",
    "        self.__speed -= 10\n",
    "        print(\"Braking... Speed:\", self.__speed)\n",
    "\n",
    "# create an object of the Car class\n",
    "my_car = Car(\"Toyota\", \"Camry\", 2022)\n",
    "\n",
    "# abstraction: only the necessary information is exposed to the user\n",
    "my_car.start()\n",
    "my_car.accelerate()\n",
    "my_car.accelerate()\n",
    "my_car.brake()\n",
    "my_car.stop()\n",
    "\n",
    "# encapsulation: the internal details are hidden and protected\n",
    "try:\n",
    "    print(my_car.__make)\n",
    "except AttributeError:\n",
    "    print(\"AttributeError: 'Car' object has no attribute '__make'\")"
   ]
  },
  {
   "cell_type": "code",
   "execution_count": 3,
   "id": "a6e13477",
   "metadata": {},
   "outputs": [],
   "source": [
    "#Q3. What is abc module in python? Why is it used?"
   ]
  },
  {
   "cell_type": "markdown",
   "id": "d6c1a831",
   "metadata": {},
   "source": [
    "The abc module in Python is the abc (Abstract Base Class) module. It provides a way to define abstract base classes in Python, which are classes that cannot be instantiated but can be subclassed. Abstract base classes provide a way to specify a common interface for a set of related classes.\n",
    "\n",
    "The abc module is used in Python to define abstract base classes and to enforce the implementation of specific methods in concrete subclasses. By using abstract base classes, we can ensure that the subclasses have a common interface and behavior. This makes the code more maintainable and scalable, as changes to the abstract base class can be reflected in all of its subclasses."
   ]
  },
  {
   "cell_type": "code",
   "execution_count": 4,
   "id": "9455ecdc",
   "metadata": {},
   "outputs": [],
   "source": [
    "#Q4. How can we achieve data abstraction?"
   ]
  },
  {
   "cell_type": "markdown",
   "id": "2c185db9",
   "metadata": {},
   "source": [
    "Data abstraction is the process of hiding the implementation details of a class or data structure and exposing only the necessary information to the users of that class or data structure. There are several ways to achieve data abstraction in Python:"
   ]
  },
  {
   "cell_type": "code",
   "execution_count": 4,
   "id": "ef3fb2ec",
   "metadata": {},
   "outputs": [],
   "source": [
    "#Q5. Can we create an instance of an abstract class? Explain your answer."
   ]
  },
  {
   "cell_type": "markdown",
   "id": "6e641472",
   "metadata": {},
   "source": [
    "No, we cannot create an instance of an abstract class. An abstract class is a base class that cannot be instantiated on its own, but it can be subclassed. The purpose of an abstract class is to provide a common interface and behavior for its subclasses, and to ensure that the subclasses implement certain methods.\n",
    "\n",
    "In Python, an abstract class is defined using the abc module and the abc.ABC class, or by declaring methods with the @abc.abstractmethod decorator. Any class that extends an abstract class must provide implementations for all of the abstract methods defined in the abstract class."
   ]
  }
 ],
 "metadata": {
  "kernelspec": {
   "display_name": "Python 3 (ipykernel)",
   "language": "python",
   "name": "python3"
  },
  "language_info": {
   "codemirror_mode": {
    "name": "ipython",
    "version": 3
   },
   "file_extension": ".py",
   "mimetype": "text/x-python",
   "name": "python",
   "nbconvert_exporter": "python",
   "pygments_lexer": "ipython3",
   "version": "3.10.5"
  }
 },
 "nbformat": 4,
 "nbformat_minor": 5
}
